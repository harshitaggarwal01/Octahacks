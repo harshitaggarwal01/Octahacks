{
 "metadata": {
  "language_info": {
   "codemirror_mode": {
    "name": "ipython",
    "version": 3
   },
   "file_extension": ".py",
   "mimetype": "text/x-python",
   "name": "python",
   "nbconvert_exporter": "python",
   "pygments_lexer": "ipython3",
   "version": "3.7.4-final"
  },
  "orig_nbformat": 2,
  "kernelspec": {
   "name": "python3",
   "display_name": "Python 3"
  }
 },
 "nbformat": 4,
 "nbformat_minor": 2,
 "cells": [
  {
   "cell_type": "code",
   "execution_count": 30,
   "metadata": {},
   "outputs": [],
   "source": [
    "import pickle\n",
    "from sklearn.feature_extraction.text import CountVectorizer\n",
    "from sklearn.naive_bayes import MultinomialNB\n",
    "from tensorflow.keras.models import load_model\n",
    "from keras_bert import get_custom_objects\n",
    "import ktrain\n",
    "from ktrain import text\n",
    "import numpy as np\n",
    "import cv2\n",
    "import copy"
   ]
  },
  {
   "cell_type": "code",
   "execution_count": 36,
   "metadata": {},
   "outputs": [],
   "source": [
    "classifier = pickle.load(open('/Users/irfhanazakirhussain/Documents/GitHub/Tm_Okthcks_pvte_Mod/Virtual Diary Mod/models/model.pkl','rb'))\n",
    "cv = pickle.load(open('/Users/irfhanazakirhussain/Documents/GitHub/Tm_Okthcks_pvte_Mod/Virtual Diary Mod/models/cv.pkl','rb'))\n",
    "predictor=ktrain.load_predictor('/Users/irfhanazakirhussain/Documents/GitHub/Tm_Okthcks_pvte_Mod/Virtual Diary Mod/models/bert model')"
   ]
  },
  {
   "cell_type": "code",
   "execution_count": 41,
   "metadata": {},
   "outputs": [],
   "source": [
    "rawtext=\"i am really sad and depressed\"\n",
    "def get_dep_prob(text):\n",
    "  data=[text]\n",
    "  vect = cv.transform(data).toarray()\n",
    "  my_predict_prob = classifier.predict_proba(vect)\n",
    "  prob=my_predict_prob[0][1]\n",
    "  return prob\n",
    "def get_emotion_prob(text):\n",
    "  emotion_prob = predictor.predict(text, return_proba=True)\n",
    "  #print(emotion_prob)\n",
    "  depression_indicator = (emotion_prob[1] + emotion_prob[2] + emotion_prob[3]) - (emotion_prob[0]+emotion_prob[4])\n",
    "  #print(depression_indicator)\n",
    "  return depression_indicator\n",
    "def cam_predict():\n",
    "        model=load_model('/Users/irfhanazakirhussain/Documents/GitHub/Tm_Okthcks_pvte_Mod/Virtual Diary Mod/models/model_weights.h5')\n",
    "        face_cascade = cv2.CascadeClassifier('/Users/irfhanazakirhussain/Documents/GitHub/Tm_Okthcks_pvte_Mod/Virtual Diary Mod/models/haarcascade_frontalface_default.xml')\n",
    "        cap=cv2.VideoCapture(\"/Users/irfhanazakirhussain/Documents/GitHub/Tm_Okthcks_pvte_Mod/Virtual Diary Mod/Young_hispanic_woman_vulnerable_and_sad_1.mp4\")\n",
    "        predict_lst = []\n",
    "        while True:\n",
    "            ret, frame = cap.read()\n",
    "            img = copy.deepcopy(frame)\n",
    "            gray = cv2.cvtColor(img, cv2.COLOR_BGR2GRAY)\n",
    "            faces = face_cascade.detectMultiScale(gray, 1.3, 5)\n",
    "            for (x, y, w, h) in faces:\n",
    "                fc = gray[y:y + h, x:x + w]\n",
    "                roi = cv2.resize(fc, (48, 48))\n",
    "                pred = model.predict(roi[np.newaxis, :, :, np.newaxis])\n",
    "                print(pred)\n",
    "                text_idx = np.argmax(pred)\n",
    "                predict_lst.append(pred)\n",
    "            break\n",
    "        depression_indicator_list = []\n",
    "        for i in predict_lst:\n",
    "            for j in i:\n",
    "                depression_indicator = (j[0] + j[1] + j[2] + j[5]) - (j[3]+j[4]+j[6])\n",
    "                depression_indicator_list.append(depression_indicator)\n",
    "        return depression_indicator_list\n"
   ]
  },
  {
   "cell_type": "code",
   "execution_count": 42,
   "metadata": {},
   "outputs": [
    {
     "output_type": "stream",
     "name": "stdout",
     "text": [
      "[[0.0804761  0.01663966 0.10475166 0.00549747 0.14383821 0.59552884\n  0.05326806]]\n"
     ]
    },
    {
     "output_type": "execute_result",
     "data": {
      "text/plain": [
       "([array([[0.0804761 , 0.01663966, 0.10475166, 0.00549747, 0.14383821,\n",
       "          0.59552884, 0.05326806]], dtype=float32)], [0.5947925])"
      ]
     },
     "metadata": {},
     "execution_count": 42
    }
   ],
   "source": [
    "cam_predict()"
   ]
  },
  {
   "cell_type": "code",
   "execution_count": null,
   "metadata": {},
   "outputs": [],
   "source": [
    "def getDepressionLevel():\n",
    "    \n"
   ]
  }
 ]
}